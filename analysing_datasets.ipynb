{
 "cells": [
  {
   "cell_type": "code",
   "execution_count": 90,
   "metadata": {},
   "outputs": [],
   "source": [
    "import pandas as pd\n",
    "import numpy as np\n",
    "\n",
    "from sklearn.preprocessing import StandardScaler\n",
    "from sklearn.feature_extraction.text import CountVectorizer\n",
    "\n",
    "from sklearn.metrics import accuracy_score\n",
    "from sklearn.metrics import classification_report\n",
    "from sklearn.model_selection import train_test_split\n",
    "from sklearn.decomposition import PCA\n",
    "from sklearn.metrics import confusion_matrix\n",
    "\n",
    "from imblearn.over_sampling import RandomOverSampler\n",
    "from nltk.corpus import stopwords\n",
    "\n",
    "import matplotlib.pyplot as plt\n"
   ]
  },
  {
   "cell_type": "code",
   "execution_count": 3,
   "metadata": {},
   "outputs": [
    {
     "name": "stderr",
     "output_type": "stream",
     "text": [
      "[nltk_data] Downloading package stopwords to\n",
      "[nltk_data]     /Users/nmaligazhdarova/nltk_data...\n",
      "[nltk_data]   Package stopwords is already up-to-date!\n"
     ]
    },
    {
     "data": {
      "text/plain": [
       "True"
      ]
     },
     "execution_count": 3,
     "metadata": {},
     "output_type": "execute_result"
    }
   ],
   "source": [
    "import nltk\n",
    "nltk.download('stopwords')"
   ]
  },
  {
   "cell_type": "markdown",
   "metadata": {},
   "source": [
    "## Analyzing datasets"
   ]
  },
  {
   "cell_type": "markdown",
   "metadata": {},
   "source": [
    "- DiverseVul dataset: https://github.com/wagner-group/diversevul\n",
    "- PrimeVul dataset: https://github.com/DLVulDet/PrimeVul\n",
    "- SVEN dataset: https://github.com/eth-sri/sven"
   ]
  },
  {
   "cell_type": "code",
   "execution_count": 6,
   "metadata": {},
   "outputs": [],
   "source": [
    "df_div_prime_sven = pd.read_csv(\"initial_datasets/diverse_primevul_sven.csv\")\n",
    "\n",
    "df_diverse = pd.read_csv(\"initial_datasets/filtered_diverse.csv\")\n",
    "\n",
    "df_prime = pd.read_csv(\"initial_datasets/filtered_primevul_train.csv\")\n",
    "df_prime_test = pd.read_csv(\"initial_datasets/filtered_primevul_test.csv\")\n",
    "\n",
    "df_sven_train = pd.read_csv(\"initial_datasets/sven_train.csv\")\n",
    "df_sven_valid = pd.read_csv(\"initial_datasets/sven_valid.csv\")"
   ]
  },
  {
   "cell_type": "code",
   "execution_count": 11,
   "metadata": {},
   "outputs": [
    {
     "name": "stdout",
     "output_type": "stream",
     "text": [
      "Final Diverse + PrimeVul + Sven datasets:  (849, 8)\n",
      "DiverseVul:  (103, 8)\n",
      "PrimeVul:  (407, 8) (135, 8)\n",
      "SVEN:  (184, 8) (20, 8)\n"
     ]
    }
   ],
   "source": [
    "print(\"Final Diverse + PrimeVul + Sven datasets: \", df_div_prime_sven.shape)\n",
    "print(\"DiverseVul: \", df_diverse.shape)\n",
    "print(\"PrimeVul: \", df_prime.shape, df_prime_test.shape)\n",
    "print(\"SVEN: \", df_sven_train.shape, df_sven_valid.shape)"
   ]
  },
  {
   "cell_type": "code",
   "execution_count": 12,
   "metadata": {},
   "outputs": [
    {
     "name": "stdout",
     "output_type": "stream",
     "text": [
      "Final dataset True and False values: \n",
      "257\n",
      "592\n"
     ]
    }
   ],
   "source": [
    "print(\"Final dataset True and False values: \")\n",
    "print(len(df_div_prime_sven[df_div_prime_sven['target']==1]))\n",
    "print(len(df_div_prime_sven[df_div_prime_sven['target']==0]))"
   ]
  },
  {
   "cell_type": "markdown",
   "metadata": {},
   "source": [
    "#### Undersampling the Final dataset"
   ]
  },
  {
   "cell_type": "code",
   "execution_count": 15,
   "metadata": {},
   "outputs": [],
   "source": [
    "def undersample(df, target_col):\n",
    "    class_counts = df[target_col].value_counts()\n",
    "    \n",
    "    minority_class_label = class_counts.idxmin()\n",
    "    \n",
    "    minority_class_count = class_counts[minority_class_label]\n",
    "    \n",
    "    majority_class_count = class_counts.drop(minority_class_label).max()\n",
    "    \n",
    "    ratio = minority_class_count / majority_class_count\n",
    "    \n",
    "    majority_class_sampled = df[df[target_col] != minority_class_label].sample(frac=ratio, random_state=42)\n",
    "    \n",
    "    undersampled_df = pd.concat([majority_class_sampled, df[df[target_col] == minority_class_label]])\n",
    "    \n",
    "    return undersampled_df"
   ]
  },
  {
   "cell_type": "code",
   "execution_count": 16,
   "metadata": {},
   "outputs": [],
   "source": [
    "# def undersample_and_save(df, target_col, output_file):\n",
    "#     undersampled_df = undersample(df, target_col)    \n",
    "#     undersampled_df.to_csv(output_file, index=False)\n",
    "\n",
    "# undersample_and_save(df_div_prime_sven, 'target', \"final_datasets/under_diverse_primevul_sven.csv\")"
   ]
  },
  {
   "cell_type": "markdown",
   "metadata": {},
   "source": [
    "#### Analyzing the Final dataset"
   ]
  },
  {
   "cell_type": "code",
   "execution_count": 17,
   "metadata": {},
   "outputs": [
    {
     "name": "stdout",
     "output_type": "stream",
     "text": [
      "Final undersampled dataset True and False values: \n",
      "257\n",
      "257\n"
     ]
    }
   ],
   "source": [
    "df_un_div_prime_sven = pd.read_csv(\"final_datasets/under_diverse_primevul_sven.csv\")\n",
    "\n",
    "print(\"Final undersampled dataset True and False values: \")\n",
    "print(len(df_un_div_prime_sven[df_un_div_prime_sven['target']==1]))\n",
    "print(len(df_un_div_prime_sven[df_un_div_prime_sven['target']==0]))"
   ]
  },
  {
   "cell_type": "code",
   "execution_count": 19,
   "metadata": {},
   "outputs": [],
   "source": [
    "train_size_under_dps = int(0.7 * len(df_un_div_prime_sven))\n",
    "df_shuffled = df_un_div_prime_sven.sample(frac=1)\n",
    "\n",
    "train_data_under = df_shuffled.iloc[:train_size_under_dps]\n",
    "test_data_under = df_shuffled.iloc[train_size_under_dps:]"
   ]
  },
  {
   "cell_type": "code",
   "execution_count": 20,
   "metadata": {},
   "outputs": [
    {
     "data": {
      "text/html": [
       "<div>\n",
       "<style scoped>\n",
       "    .dataframe tbody tr th:only-of-type {\n",
       "        vertical-align: middle;\n",
       "    }\n",
       "\n",
       "    .dataframe tbody tr th {\n",
       "        vertical-align: top;\n",
       "    }\n",
       "\n",
       "    .dataframe thead th {\n",
       "        text-align: right;\n",
       "    }\n",
       "</style>\n",
       "<table border=\"1\" class=\"dataframe\">\n",
       "  <thead>\n",
       "    <tr style=\"text-align: right;\">\n",
       "      <th></th>\n",
       "      <th>func</th>\n",
       "      <th>target</th>\n",
       "      <th>cwe</th>\n",
       "      <th>project</th>\n",
       "      <th>commit_id</th>\n",
       "      <th>hash</th>\n",
       "      <th>size</th>\n",
       "      <th>message</th>\n",
       "    </tr>\n",
       "  </thead>\n",
       "  <tbody>\n",
       "    <tr>\n",
       "      <th>475</th>\n",
       "      <td>def followFriends(self,userid,friendid):\\n...</td>\n",
       "      <td>1</td>\n",
       "      <td>cwe-089</td>\n",
       "      <td>NaN</td>\n",
       "      <td>NaN</td>\n",
       "      <td>NaN</td>\n",
       "      <td>NaN</td>\n",
       "      <td>NaN</td>\n",
       "    </tr>\n",
       "    <tr>\n",
       "      <th>408</th>\n",
       "      <td>def add_input(self, data):\\n        connec...</td>\n",
       "      <td>1</td>\n",
       "      <td>cwe-089</td>\n",
       "      <td>NaN</td>\n",
       "      <td>NaN</td>\n",
       "      <td>NaN</td>\n",
       "      <td>NaN</td>\n",
       "      <td>NaN</td>\n",
       "    </tr>\n",
       "    <tr>\n",
       "      <th>91</th>\n",
       "      <td>bool JOIN::get_best_combination()\\n{\\n  uint t...</td>\n",
       "      <td>0</td>\n",
       "      <td>['CWE-89']</td>\n",
       "      <td>server</td>\n",
       "      <td>5ba77222e9fe7af8ff403816b5338b18b342053c</td>\n",
       "      <td>83630079315190795246411860210495828029</td>\n",
       "      <td>177.0</td>\n",
       "      <td>MDEV-21028 Server crashes in Query_arena::set_...</td>\n",
       "    </tr>\n",
       "    <tr>\n",
       "      <th>183</th>\n",
       "      <td>add_keyuse(DYNAMIC_ARRAY *keyuse_array, KEY_FI...</td>\n",
       "      <td>0</td>\n",
       "      <td>['CWE-89']</td>\n",
       "      <td>server</td>\n",
       "      <td>5ba77222e9fe7af8ff403816b5338b18b342053c</td>\n",
       "      <td>110507238188904002829600511945629512113</td>\n",
       "      <td>27.0</td>\n",
       "      <td>MDEV-21028 Server crashes in Query_arena::set_...</td>\n",
       "    </tr>\n",
       "    <tr>\n",
       "      <th>189</th>\n",
       "      <td>\\t\\tvoid CWebServer::ReloadCustomSwitchIcons()...</td>\n",
       "      <td>0</td>\n",
       "      <td>CWE-89</td>\n",
       "      <td>domoticz</td>\n",
       "      <td>ee70db46f81afa582c96b887b73bcd2a86feda00</td>\n",
       "      <td>285520992365248360026663711530896169457</td>\n",
       "      <td>NaN</td>\n",
       "      <td>NaN</td>\n",
       "    </tr>\n",
       "  </tbody>\n",
       "</table>\n",
       "</div>"
      ],
      "text/plain": [
       "                                                  func  target         cwe  \\\n",
       "475      def followFriends(self,userid,friendid):\\n...       1     cwe-089   \n",
       "408      def add_input(self, data):\\n        connec...       1     cwe-089   \n",
       "91   bool JOIN::get_best_combination()\\n{\\n  uint t...       0  ['CWE-89']   \n",
       "183  add_keyuse(DYNAMIC_ARRAY *keyuse_array, KEY_FI...       0  ['CWE-89']   \n",
       "189  \\t\\tvoid CWebServer::ReloadCustomSwitchIcons()...       0      CWE-89   \n",
       "\n",
       "      project                                 commit_id  \\\n",
       "475       NaN                                       NaN   \n",
       "408       NaN                                       NaN   \n",
       "91     server  5ba77222e9fe7af8ff403816b5338b18b342053c   \n",
       "183    server  5ba77222e9fe7af8ff403816b5338b18b342053c   \n",
       "189  domoticz  ee70db46f81afa582c96b887b73bcd2a86feda00   \n",
       "\n",
       "                                        hash   size  \\\n",
       "475                                      NaN    NaN   \n",
       "408                                      NaN    NaN   \n",
       "91    83630079315190795246411860210495828029  177.0   \n",
       "183  110507238188904002829600511945629512113   27.0   \n",
       "189  285520992365248360026663711530896169457    NaN   \n",
       "\n",
       "                                               message  \n",
       "475                                                NaN  \n",
       "408                                                NaN  \n",
       "91   MDEV-21028 Server crashes in Query_arena::set_...  \n",
       "183  MDEV-21028 Server crashes in Query_arena::set_...  \n",
       "189                                                NaN  "
      ]
     },
     "execution_count": 20,
     "metadata": {},
     "output_type": "execute_result"
    }
   ],
   "source": [
    "train_data_under.head()"
   ]
  },
  {
   "cell_type": "code",
   "execution_count": 22,
   "metadata": {},
   "outputs": [
    {
     "name": "stdout",
     "output_type": "stream",
     "text": [
      "Train dataset's True and False values: \n",
      "172\n",
      "187\n"
     ]
    }
   ],
   "source": [
    "print(\"Train dataset's True and False values: \")\n",
    "print(len(train_data_under[train_data_under['target']==1]))\n",
    "print(len(train_data_under[train_data_under['target']==0]))"
   ]
  },
  {
   "cell_type": "code",
   "execution_count": 23,
   "metadata": {},
   "outputs": [
    {
     "name": "stdout",
     "output_type": "stream",
     "text": [
      "Test dataset's True and False values: \n",
      "85\n",
      "70\n"
     ]
    }
   ],
   "source": [
    "print(\"Test dataset's True and False values: \")\n",
    "print(len(test_data_under[test_data_under['target']==1]))\n",
    "print(len(test_data_under[test_data_under['target']==0]))"
   ]
  },
  {
   "cell_type": "markdown",
   "metadata": {},
   "source": [
    "#### Processing the Final dataset for SVC model"
   ]
  },
  {
   "cell_type": "code",
   "execution_count": 24,
   "metadata": {},
   "outputs": [],
   "source": [
    "def scale_dataset(dataframe, oversample=False):\n",
    "  X = dataframe['func']\n",
    "  y = dataframe['target']\n",
    "\n",
    "  vectorizer = CountVectorizer(min_df = 2, max_df = 0.8, stop_words = stopwords.words('english'))\n",
    "  X = vectorizer.fit_transform(X.values.astype('U')).toarray()\n",
    "\n",
    "  scaler = StandardScaler()\n",
    "  X = scaler.fit_transform(X)\n",
    "\n",
    "  # if oversample:\n",
    "  #   ros = RandomOverSampler()\n",
    "  #   X, y = ros.fit_resample(X, y)\n",
    "\n",
    "  dataframe = np.hstack((X, np.reshape(y, (-1, 1))))\n",
    "\n",
    "  return dataframe, X, y"
   ]
  },
  {
   "cell_type": "code",
   "execution_count": 25,
   "metadata": {},
   "outputs": [],
   "source": [
    "dataframe, X, y = scale_dataset(df_un_div_prime_sven, oversample=True)"
   ]
  },
  {
   "cell_type": "code",
   "execution_count": 26,
   "metadata": {},
   "outputs": [
    {
     "name": "stdout",
     "output_type": "stream",
     "text": [
      "(514, 3067)\n"
     ]
    }
   ],
   "source": [
    "print(dataframe.shape)"
   ]
  },
  {
   "cell_type": "code",
   "execution_count": 37,
   "metadata": {},
   "outputs": [
    {
     "name": "stdout",
     "output_type": "stream",
     "text": [
      "Final dataset after the vectorization: \n",
      "\n",
      " [[-0.05356562 -0.0625     -0.08398388 ... -0.0625     -0.0625\n",
      "   0.        ]\n",
      " [-0.05356562 -0.0625     -0.08398388 ... -0.0625     -0.0625\n",
      "   0.        ]\n",
      " [-0.05356562 -0.0625     -0.08398388 ... -0.0625     -0.0625\n",
      "   0.        ]\n",
      " [-0.05356562 -0.0625     -0.08398388 ... -0.0625     -0.0625\n",
      "   0.        ]\n",
      " [-0.05356562 -0.0625     -0.08398388 ... -0.0625     -0.0625\n",
      "   0.        ]]\n"
     ]
    }
   ],
   "source": [
    "print(\"Final dataset after the vectorization: \\n\\n\", dataframe[0:5])"
   ]
  },
  {
   "cell_type": "code",
   "execution_count": 31,
   "metadata": {},
   "outputs": [
    {
     "name": "stdout",
     "output_type": "stream",
     "text": [
      " Train dataset shape:  (359, 3066) (359,) \n",
      " Test dataset shape:  (155, 3066) (155,)\n"
     ]
    }
   ],
   "source": [
    "X_train, X_test, y_train, y_test = train_test_split(X, y, test_size=0.3, random_state=42)\n",
    "print(\" Train dataset shape: \", X_train.shape, y_train.shape, \"\\n Test dataset shape: \", X_test.shape,  y_test.shape)"
   ]
  },
  {
   "cell_type": "code",
   "execution_count": null,
   "metadata": {},
   "outputs": [],
   "source": []
  },
  {
   "cell_type": "markdown",
   "metadata": {},
   "source": [
    "## Statistics about the dataset"
   ]
  },
  {
   "cell_type": "code",
   "execution_count": 38,
   "metadata": {},
   "outputs": [],
   "source": [
    "true_data = dataframe[dataframe[:, -1] == 1]\n",
    "false_data = dataframe[dataframe[:, -1] == 0]\n",
    "\n",
    "data = np.vstack((true_data, false_data))\n",
    "\n",
    "true_labels = np.ones((true_data.shape[0],), dtype=int)\n",
    "false_labels = np.zeros((false_data.shape[0],), dtype=int)\n",
    "labels = np.concatenate((true_labels, false_labels))"
   ]
  },
  {
   "cell_type": "code",
   "execution_count": 40,
   "metadata": {},
   "outputs": [
    {
     "data": {
      "image/png": "[encoded data removed]",
      "text/plain": [
       "<Figure size 800x600 with 1 Axes>"
      ]
     },
     "metadata": {},
     "output_type": "display_data"
    }
   ],
   "source": [
    "pca = PCA(n_components=2)\n",
    "data_reduced = pca.fit_transform(data)\n",
    "\n",
    "median_values = np.median(data_reduced, axis=0)\n",
    "mad_values = np.median(np.abs(data_reduced - median_values), axis=0)\n",
    "\n",
    "outlier_threshold = 3.0\n",
    "outlier_mask = np.any(np.abs(data_reduced - median_values) > outlier_threshold * mad_values, axis=1)\n",
    "\n",
    "filtered_data_reduced = data_reduced[~outlier_mask]\n",
    "filtered_labels = labels[~outlier_mask]\n",
    "\n",
    "x_values = filtered_data_reduced[:, 0]\n",
    "y_values = filtered_data_reduced[:, 1]\n",
    "\n",
    "plt.figure(figsize=(8, 6))\n",
    "plt.scatter(x_values[filtered_labels == 1], y_values[filtered_labels == 1], c='green', marker='.', label='True', alpha=0.5)\n",
    "plt.scatter(x_values[filtered_labels == 0], y_values[filtered_labels == 0], c='red', marker='.', label='False', alpha=0.5)\n",
    "plt.xlabel('Principal Component 1')\n",
    "plt.ylabel('Principal Component 2')\n",
    "plt.legend()\n",
    "plt.grid(True)\n",
    "plt.show()"
   ]
  },
  {
   "cell_type": "markdown",
   "metadata": {},
   "source": [
    "## SVC model"
   ]
  },
  {
   "cell_type": "markdown",
   "metadata": {},
   "source": [
    "### Hyper-tuning the parameters"
   ]
  },
  {
   "cell_type": "code",
   "execution_count": 43,
   "metadata": {},
   "outputs": [],
   "source": [
    "from sklearn.svm import SVC\n",
    "from sklearn.model_selection import GridSearchCV"
   ]
  },
  {
   "cell_type": "code",
   "execution_count": 49,
   "metadata": {},
   "outputs": [],
   "source": [
    "svm = SVC()\n",
    "\n",
    "param_grid = [\n",
    "  {'C': [1, 10, 100, 1000], 'kernel': ['rbf']},\n",
    "  {'C': [1, 10, 100, 1000], 'gamma': [0.001, 0.0001], 'kernel': ['rbf']},\n",
    "  {'C': [1, 10, 100, 1000], 'gamma': ['auto']},\n",
    "  {'C': [1, 10, 100, 1000], 'gamma': ['auto'], 'kernel': ['rbf']},\n",
    " ]\n",
    "\n",
    "grid = GridSearchCV(svm,param_grid)"
   ]
  },
  {
   "cell_type": "code",
   "execution_count": 50,
   "metadata": {},
   "outputs": [
    {
     "data": {
      "text/html": [
       "<style>#sk-container-id-2 {\n",
       "  /* Definition of color scheme common for light and dark mode */\n",
       "  --sklearn-color-text: black;\n",
       "  --sklearn-color-line: gray;\n",
       "  /* Definition of color scheme for unfitted estimators */\n",
       "  --sklearn-color-unfitted-level-0: #fff5e6;\n",
       "  --sklearn-color-unfitted-level-1: #f6e4d2;\n",
       "  --sklearn-color-unfitted-level-2: #ffe0b3;\n",
       "  --sklearn-color-unfitted-level-3: chocolate;\n",
       "  /* Definition of color scheme for fitted estimators */\n",
       "  --sklearn-color-fitted-level-0: #f0f8ff;\n",
       "  --sklearn-color-fitted-level-1: #d4ebff;\n",
       "  --sklearn-color-fitted-level-2: #b3dbfd;\n",
       "  --sklearn-color-fitted-level-3: cornflowerblue;\n",
       "\n",
       "  /* Specific color for light theme */\n",
       "  --sklearn-color-text-on-default-background: var(--sg-text-color, var(--theme-code-foreground, var(--jp-content-font-color1, black)));\n",
       "  --sklearn-color-background: var(--sg-background-color, var(--theme-background, var(--jp-layout-color0, white)));\n",
       "  --sklearn-color-border-box: var(--sg-text-color, var(--theme-code-foreground, var(--jp-content-font-color1, black)));\n",
       "  --sklearn-color-icon: #696969;\n",
       "\n",
       "  @media (prefers-color-scheme: dark) {\n",
       "    /* Redefinition of color scheme for dark theme */\n",
       "    --sklearn-color-text-on-default-background: var(--sg-text-color, var(--theme-code-foreground, var(--jp-content-font-color1, white)));\n",
       "    --sklearn-color-background: var(--sg-background-color, var(--theme-background, var(--jp-layout-color0, #111)));\n",
       "    --sklearn-color-border-box: var(--sg-text-color, var(--theme-code-foreground, var(--jp-content-font-color1, white)));\n",
       "    --sklearn-color-icon: #878787;\n",
       "  }\n",
       "}\n",
       "\n",
       "#sk-container-id-2 {\n",
       "  color: var(--sklearn-color-text);\n",
       "}\n",
       "\n",
       "#sk-container-id-2 pre {\n",
       "  padding: 0;\n",
       "}\n",
       "\n",
       "#sk-container-id-2 input.sk-hidden--visually {\n",
       "  border: 0;\n",
       "  clip: rect(1px 1px 1px 1px);\n",
       "  clip: rect(1px, 1px, 1px, 1px);\n",
       "  height: 1px;\n",
       "  margin: -1px;\n",
       "  overflow: hidden;\n",
       "  padding: 0;\n",
       "  position: absolute;\n",
       "  width: 1px;\n",
       "}\n",
       "\n",
       "#sk-container-id-2 div.sk-dashed-wrapped {\n",
       "  border: 1px dashed var(--sklearn-color-line);\n",
       "  margin: 0 0.4em 0.5em 0.4em;\n",
       "  box-sizing: border-box;\n",
       "  padding-bottom: 0.4em;\n",
       "  background-color: var(--sklearn-color-background);\n",
       "}\n",
       "\n",
       "#sk-container-id-2 div.sk-container {\n",
       "  /* jupyter's `normalize.less` sets `[hidden] { display: none; }`\n",
       "     but bootstrap.min.css set `[hidden] { display: none !important; }`\n",
       "     so we also need the `!important` here to be able to override the\n",
       "     default hidden behavior on the sphinx rendered scikit-learn.org.\n",
       "     See: https://github.com/scikit-learn/scikit-learn/issues/21755 */\n",
       "  display: inline-block !important;\n",
       "  position: relative;\n",
       "}\n",
       "\n",
       "#sk-container-id-2 div.sk-text-repr-fallback {\n",
       "  display: none;\n",
       "}\n",
       "\n",
       "div.sk-parallel-item,\n",
       "div.sk-serial,\n",
       "div.sk-item {\n",
       "  /* draw centered vertical line to link estimators */\n",
       "  background-image: linear-gradient(var(--sklearn-color-text-on-default-background), var(--sklearn-color-text-on-default-background));\n",
       "  background-size: 2px 100%;\n",
       "  background-repeat: no-repeat;\n",
       "  background-position: center center;\n",
       "}\n",
       "\n",
       "/* Parallel-specific style estimator block */\n",
       "\n",
       "#sk-container-id-2 div.sk-parallel-item::after {\n",
       "  content: \"\";\n",
       "  width: 100%;\n",
       "  border-bottom: 2px solid var(--sklearn-color-text-on-default-background);\n",
       "  flex-grow: 1;\n",
       "}\n",
       "\n",
       "#sk-container-id-2 div.sk-parallel {\n",
       "  display: flex;\n",
       "  align-items: stretch;\n",
       "  justify-content: center;\n",
       "  background-color: var(--sklearn-color-background);\n",
       "  position: relative;\n",
       "}\n",
       "\n",
       "#sk-container-id-2 div.sk-parallel-item {\n",
       "  display: flex;\n",
       "  flex-direction: column;\n",
       "}\n",
       "\n",
       "#sk-container-id-2 div.sk-parallel-item:first-child::after {\n",
       "  align-self: flex-end;\n",
       "  width: 50%;\n",
       "}\n",
       "\n",
       "#sk-container-id-2 div.sk-parallel-item:last-child::after {\n",
       "  align-self: flex-start;\n",
       "  width: 50%;\n",
       "}\n",
       "\n",
       "#sk-container-id-2 div.sk-parallel-item:only-child::after {\n",
       "  width: 0;\n",
       "}\n",
       "\n",
       "/* Serial-specific style estimator block */\n",
       "\n",
       "#sk-container-id-2 div.sk-serial {\n",
       "  display: flex;\n",
       "  flex-direction: column;\n",
       "  align-items: center;\n",
       "  background-color: var(--sklearn-color-background);\n",
       "  padding-right: 1em;\n",
       "  padding-left: 1em;\n",
       "}\n",
       "\n",
       "\n",
       "/* Toggleable style: style used for estimator/Pipeline/ColumnTransformer box that is\n",
       "clickable and can be expanded/collapsed.\n",
       "- Pipeline and ColumnTransformer use this feature and define the default style\n",
       "- Estimators will overwrite some part of the style using the `sk-estimator` class\n",
       "*/\n",
       "\n",
       "/* Pipeline and ColumnTransformer style (default) */\n",
       "\n",
       "#sk-container-id-2 div.sk-toggleable {\n",
       "  /* Default theme specific background. It is overwritten whether we have a\n",
       "  specific estimator or a Pipeline/ColumnTransformer */\n",
       "  background-color: var(--sklearn-color-background);\n",
       "}\n",
       "\n",
       "/* Toggleable label */\n",
       "#sk-container-id-2 label.sk-toggleable__label {\n",
       "  cursor: pointer;\n",
       "  display: block;\n",
       "  width: 100%;\n",
       "  margin-bottom: 0;\n",
       "  padding: 0.5em;\n",
       "  box-sizing: border-box;\n",
       "  text-align: center;\n",
       "}\n",
       "\n",
       "#sk-container-id-2 label.sk-toggleable__label-arrow:before {\n",
       "  /* Arrow on the left of the label */\n",
       "  content: \"▸\";\n",
       "  float: left;\n",
       "  margin-right: 0.25em;\n",
       "  color: var(--sklearn-color-icon);\n",
       "}\n",
       "\n",
       "#sk-container-id-2 label.sk-toggleable__label-arrow:hover:before {\n",
       "  color: var(--sklearn-color-text);\n",
       "}\n",
       "\n",
       "/* Toggleable content - dropdown */\n",
       "\n",
       "#sk-container-id-2 div.sk-toggleable__content {\n",
       "  max-height: 0;\n",
       "  max-width: 0;\n",
       "  overflow: hidden;\n",
       "  text-align: left;\n",
       "  /* unfitted */\n",
       "  background-color: var(--sklearn-color-unfitted-level-0);\n",
       "}\n",
       "\n",
       "#sk-container-id-2 div.sk-toggleable__content.fitted {\n",
       "  /* fitted */\n",
       "  background-color: var(--sklearn-color-fitted-level-0);\n",
       "}\n",
       "\n",
       "#sk-container-id-2 div.sk-toggleable__content pre {\n",
       "  margin: 0.2em;\n",
       "  border-radius: 0.25em;\n",
       "  color: var(--sklearn-color-text);\n",
       "  /* unfitted */\n",
       "  background-color: var(--sklearn-color-unfitted-level-0);\n",
       "}\n",
       "\n",
       "#sk-container-id-2 div.sk-toggleable__content.fitted pre {\n",
       "  /* unfitted */\n",
       "  background-color: var(--sklearn-color-fitted-level-0);\n",
       "}\n",
       "\n",
       "#sk-container-id-2 input.sk-toggleable__control:checked~div.sk-toggleable__content {\n",
       "  /* Expand drop-down */\n",
       "  max-height: 200px;\n",
       "  max-width: 100%;\n",
       "  overflow: auto;\n",
       "}\n",
       "\n",
       "#sk-container-id-2 input.sk-toggleable__control:checked~label.sk-toggleable__label-arrow:before {\n",
       "  content: \"▾\";\n",
       "}\n",
       "\n",
       "/* Pipeline/ColumnTransformer-specific style */\n",
       "\n",
       "#sk-container-id-2 div.sk-label input.sk-toggleable__control:checked~label.sk-toggleable__label {\n",
       "  color: var(--sklearn-color-text);\n",
       "  background-color: var(--sklearn-color-unfitted-level-2);\n",
       "}\n",
       "\n",
       "#sk-container-id-2 div.sk-label.fitted input.sk-toggleable__control:checked~label.sk-toggleable__label {\n",
       "  background-color: var(--sklearn-color-fitted-level-2);\n",
       "}\n",
       "\n",
       "/* Estimator-specific style */\n",
       "\n",
       "/* Colorize estimator box */\n",
       "#sk-container-id-2 div.sk-estimator input.sk-toggleable__control:checked~label.sk-toggleable__label {\n",
       "  /* unfitted */\n",
       "  background-color: var(--sklearn-color-unfitted-level-2);\n",
       "}\n",
       "\n",
       "#sk-container-id-2 div.sk-estimator.fitted input.sk-toggleable__control:checked~label.sk-toggleable__label {\n",
       "  /* fitted */\n",
       "  background-color: var(--sklearn-color-fitted-level-2);\n",
       "}\n",
       "\n",
       "#sk-container-id-2 div.sk-label label.sk-toggleable__label,\n",
       "#sk-container-id-2 div.sk-label label {\n",
       "  /* The background is the default theme color */\n",
       "  color: var(--sklearn-color-text-on-default-background);\n",
       "}\n",
       "\n",
       "/* On hover, darken the color of the background */\n",
       "#sk-container-id-2 div.sk-label:hover label.sk-toggleable__label {\n",
       "  color: var(--sklearn-color-text);\n",
       "  background-color: var(--sklearn-color-unfitted-level-2);\n",
       "}\n",
       "\n",
       "/* Label box, darken color on hover, fitted */\n",
       "#sk-container-id-2 div.sk-label.fitted:hover label.sk-toggleable__label.fitted {\n",
       "  color: var(--sklearn-color-text);\n",
       "  background-color: var(--sklearn-color-fitted-level-2);\n",
       "}\n",
       "\n",
       "/* Estimator label */\n",
       "\n",
       "#sk-container-id-2 div.sk-label label {\n",
       "  font-family: monospace;\n",
       "  font-weight: bold;\n",
       "  display: inline-block;\n",
       "  line-height: 1.2em;\n",
       "}\n",
       "\n",
       "#sk-container-id-2 div.sk-label-container {\n",
       "  text-align: center;\n",
       "}\n",
       "\n",
       "/* Estimator-specific */\n",
       "#sk-container-id-2 div.sk-estimator {\n",
       "  font-family: monospace;\n",
       "  border: 1px dotted var(--sklearn-color-border-box);\n",
       "  border-radius: 0.25em;\n",
       "  box-sizing: border-box;\n",
       "  margin-bottom: 0.5em;\n",
       "  /* unfitted */\n",
       "  background-color: var(--sklearn-color-unfitted-level-0);\n",
       "}\n",
       "\n",
       "#sk-container-id-2 div.sk-estimator.fitted {\n",
       "  /* fitted */\n",
       "  background-color: var(--sklearn-color-fitted-level-0);\n",
       "}\n",
       "\n",
       "/* on hover */\n",
       "#sk-container-id-2 div.sk-estimator:hover {\n",
       "  /* unfitted */\n",
       "  background-color: var(--sklearn-color-unfitted-level-2);\n",
       "}\n",
       "\n",
       "#sk-container-id-2 div.sk-estimator.fitted:hover {\n",
       "  /* fitted */\n",
       "  background-color: var(--sklearn-color-fitted-level-2);\n",
       "}\n",
       "\n",
       "/* Specification for estimator info (e.g. \"i\" and \"?\") */\n",
       "\n",
       "/* Common style for \"i\" and \"?\" */\n",
       "\n",
       ".sk-estimator-doc-link,\n",
       "a:link.sk-estimator-doc-link,\n",
       "a:visited.sk-estimator-doc-link {\n",
       "  float: right;\n",
       "  font-size: smaller;\n",
       "  line-height: 1em;\n",
       "  font-family: monospace;\n",
       "  background-color: var(--sklearn-color-background);\n",
       "  border-radius: 1em;\n",
       "  height: 1em;\n",
       "  width: 1em;\n",
       "  text-decoration: none !important;\n",
       "  margin-left: 1ex;\n",
       "  /* unfitted */\n",
       "  border: var(--sklearn-color-unfitted-level-1) 1pt solid;\n",
       "  color: var(--sklearn-color-unfitted-level-1);\n",
       "}\n",
       "\n",
       ".sk-estimator-doc-link.fitted,\n",
       "a:link.sk-estimator-doc-link.fitted,\n",
       "a:visited.sk-estimator-doc-link.fitted {\n",
       "  /* fitted */\n",
       "  border: var(--sklearn-color-fitted-level-1) 1pt solid;\n",
       "  color: var(--sklearn-color-fitted-level-1);\n",
       "}\n",
       "\n",
       "/* On hover */\n",
       "div.sk-estimator:hover .sk-estimator-doc-link:hover,\n",
       ".sk-estimator-doc-link:hover,\n",
       "div.sk-label-container:hover .sk-estimator-doc-link:hover,\n",
       ".sk-estimator-doc-link:hover {\n",
       "  /* unfitted */\n",
       "  background-color: var(--sklearn-color-unfitted-level-3);\n",
       "  color: var(--sklearn-color-background);\n",
       "  text-decoration: none;\n",
       "}\n",
       "\n",
       "div.sk-estimator.fitted:hover .sk-estimator-doc-link.fitted:hover,\n",
       ".sk-estimator-doc-link.fitted:hover,\n",
       "div.sk-label-container:hover .sk-estimator-doc-link.fitted:hover,\n",
       ".sk-estimator-doc-link.fitted:hover {\n",
       "  /* fitted */\n",
       "  background-color: var(--sklearn-color-fitted-level-3);\n",
       "  color: var(--sklearn-color-background);\n",
       "  text-decoration: none;\n",
       "}\n",
       "\n",
       "/* Span, style for the box shown on hovering the info icon */\n",
       ".sk-estimator-doc-link span {\n",
       "  display: none;\n",
       "  z-index: 9999;\n",
       "  position: relative;\n",
       "  font-weight: normal;\n",
       "  right: .2ex;\n",
       "  padding: .5ex;\n",
       "  margin: .5ex;\n",
       "  width: min-content;\n",
       "  min-width: 20ex;\n",
       "  max-width: 50ex;\n",
       "  color: var(--sklearn-color-text);\n",
       "  box-shadow: 2pt 2pt 4pt #999;\n",
       "  /* unfitted */\n",
       "  background: var(--sklearn-color-unfitted-level-0);\n",
       "  border: .5pt solid var(--sklearn-color-unfitted-level-3);\n",
       "}\n",
       "\n",
       ".sk-estimator-doc-link.fitted span {\n",
       "  /* fitted */\n",
       "  background: var(--sklearn-color-fitted-level-0);\n",
       "  border: var(--sklearn-color-fitted-level-3);\n",
       "}\n",
       "\n",
       ".sk-estimator-doc-link:hover span {\n",
       "  display: block;\n",
       "}\n",
       "\n",
       "/* \"?\"-specific style due to the `<a>` HTML tag */\n",
       "\n",
       "#sk-container-id-2 a.estimator_doc_link {\n",
       "  float: right;\n",
       "  font-size: 1rem;\n",
       "  line-height: 1em;\n",
       "  font-family: monospace;\n",
       "  background-color: var(--sklearn-color-background);\n",
       "  border-radius: 1rem;\n",
       "  height: 1rem;\n",
       "  width: 1rem;\n",
       "  text-decoration: none;\n",
       "  /* unfitted */\n",
       "  color: var(--sklearn-color-unfitted-level-1);\n",
       "  border: var(--sklearn-color-unfitted-level-1) 1pt solid;\n",
       "}\n",
       "\n",
       "#sk-container-id-2 a.estimator_doc_link.fitted {\n",
       "  /* fitted */\n",
       "  border: var(--sklearn-color-fitted-level-1) 1pt solid;\n",
       "  color: var(--sklearn-color-fitted-level-1);\n",
       "}\n",
       "\n",
       "/* On hover */\n",
       "#sk-container-id-2 a.estimator_doc_link:hover {\n",
       "  /* unfitted */\n",
       "  background-color: var(--sklearn-color-unfitted-level-3);\n",
       "  color: var(--sklearn-color-background);\n",
       "  text-decoration: none;\n",
       "}\n",
       "\n",
       "#sk-container-id-2 a.estimator_doc_link.fitted:hover {\n",
       "  /* fitted */\n",
       "  background-color: var(--sklearn-color-fitted-level-3);\n",
       "}\n",
       "</style><div id=\"sk-container-id-2\" class=\"sk-top-container\"><div class=\"sk-text-repr-fallback\"><pre>GridSearchCV(estimator=SVC(),\n",
       "             param_grid=[{&#x27;C&#x27;: [1, 10, 100, 1000], &#x27;kernel&#x27;: [&#x27;rbf&#x27;]},\n",
       "                         {&#x27;C&#x27;: [1, 10, 100, 1000], &#x27;gamma&#x27;: [0.001, 0.0001],\n",
       "                          &#x27;kernel&#x27;: [&#x27;rbf&#x27;]},\n",
       "                         {&#x27;C&#x27;: [1, 10, 100, 1000], &#x27;gamma&#x27;: [&#x27;auto&#x27;]},\n",
       "                         {&#x27;C&#x27;: [1, 10, 100, 1000], &#x27;gamma&#x27;: [&#x27;auto&#x27;],\n",
       "                          &#x27;kernel&#x27;: [&#x27;rbf&#x27;]}])</pre><b>In a Jupyter environment, please rerun this cell to show the HTML representation or trust the notebook. <br />On GitHub, the HTML representation is unable to render, please try loading this page with nbviewer.org.</b></div><div class=\"sk-container\" hidden><div class=\"sk-item sk-dashed-wrapped\"><div class=\"sk-label-container\"><div class=\"sk-label fitted sk-toggleable\"><input class=\"sk-toggleable__control sk-hidden--visually\" id=\"sk-estimator-id-4\" type=\"checkbox\" ><label for=\"sk-estimator-id-4\" class=\"sk-toggleable__label fitted sk-toggleable__label-arrow fitted\">&nbsp;&nbsp;GridSearchCV<a class=\"sk-estimator-doc-link fitted\" rel=\"noreferrer\" target=\"_blank\" href=\"https://scikit-learn.org/1.4/modules/generated/sklearn.model_selection.GridSearchCV.html\">?<span>Documentation for GridSearchCV</span></a><span class=\"sk-estimator-doc-link fitted\">i<span>Fitted</span></span></label><div class=\"sk-toggleable__content fitted\"><pre>GridSearchCV(estimator=SVC(),\n",
       "             param_grid=[{&#x27;C&#x27;: [1, 10, 100, 1000], &#x27;kernel&#x27;: [&#x27;rbf&#x27;]},\n",
       "                         {&#x27;C&#x27;: [1, 10, 100, 1000], &#x27;gamma&#x27;: [0.001, 0.0001],\n",
       "                          &#x27;kernel&#x27;: [&#x27;rbf&#x27;]},\n",
       "                         {&#x27;C&#x27;: [1, 10, 100, 1000], &#x27;gamma&#x27;: [&#x27;auto&#x27;]},\n",
       "                         {&#x27;C&#x27;: [1, 10, 100, 1000], &#x27;gamma&#x27;: [&#x27;auto&#x27;],\n",
       "                          &#x27;kernel&#x27;: [&#x27;rbf&#x27;]}])</pre></div> </div></div><div class=\"sk-parallel\"><div class=\"sk-parallel-item\"><div class=\"sk-item\"><div class=\"sk-label-container\"><div class=\"sk-label fitted sk-toggleable\"><input class=\"sk-toggleable__control sk-hidden--visually\" id=\"sk-estimator-id-5\" type=\"checkbox\" ><label for=\"sk-estimator-id-5\" class=\"sk-toggleable__label fitted sk-toggleable__label-arrow fitted\">estimator: SVC</label><div class=\"sk-toggleable__content fitted\"><pre>SVC()</pre></div> </div></div><div class=\"sk-serial\"><div class=\"sk-item\"><div class=\"sk-estimator fitted sk-toggleable\"><input class=\"sk-toggleable__control sk-hidden--visually\" id=\"sk-estimator-id-6\" type=\"checkbox\" ><label for=\"sk-estimator-id-6\" class=\"sk-toggleable__label fitted sk-toggleable__label-arrow fitted\">&nbsp;SVC<a class=\"sk-estimator-doc-link fitted\" rel=\"noreferrer\" target=\"_blank\" href=\"https://scikit-learn.org/1.4/modules/generated/sklearn.svm.SVC.html\">?<span>Documentation for SVC</span></a></label><div class=\"sk-toggleable__content fitted\"><pre>SVC()</pre></div> </div></div></div></div></div></div></div></div></div>"
      ],
      "text/plain": [
       "GridSearchCV(estimator=SVC(),\n",
       "             param_grid=[{'C': [1, 10, 100, 1000], 'kernel': ['rbf']},\n",
       "                         {'C': [1, 10, 100, 1000], 'gamma': [0.001, 0.0001],\n",
       "                          'kernel': ['rbf']},\n",
       "                         {'C': [1, 10, 100, 1000], 'gamma': ['auto']},\n",
       "                         {'C': [1, 10, 100, 1000], 'gamma': ['auto'],\n",
       "                          'kernel': ['rbf']}])"
      ]
     },
     "execution_count": 50,
     "metadata": {},
     "output_type": "execute_result"
    }
   ],
   "source": [
    "grid.fit(X_train,y_train)"
   ]
  },
  {
   "cell_type": "code",
   "execution_count": 51,
   "metadata": {},
   "outputs": [
    {
     "data": {
      "text/plain": [
       "0.9612903225806452"
      ]
     },
     "execution_count": 51,
     "metadata": {},
     "output_type": "execute_result"
    }
   ],
   "source": [
    "grid_svc = grid.predict(X_test)\n",
    "accuracy_score(y_test,grid_svc)"
   ]
  },
  {
   "cell_type": "code",
   "execution_count": 144,
   "metadata": {},
   "outputs": [
    {
     "name": "stdout",
     "output_type": "stream",
     "text": [
      "              precision    recall  f1-score   support\n",
      "\n",
      "           0       0.95      0.98      0.96        82\n",
      "           1       0.97      0.95      0.96        73\n",
      "\n",
      "    accuracy                           0.96       155\n",
      "   macro avg       0.96      0.96      0.96       155\n",
      "weighted avg       0.96      0.96      0.96       155\n",
      "\n"
     ]
    }
   ],
   "source": [
    "print(classification_report(y_test, grid_svc))\n",
    "\n",
    "y_true = y_test\n",
    "y_pred = grid_svc  \n",
    "\n",
    "TN_SVC, FP_SVC, FN_SVC, TP_SVC = confusion_matrix(y_true, y_pred, labels=[0, 1]).ravel()"
   ]
  },
  {
   "cell_type": "code",
   "execution_count": 55,
   "metadata": {},
   "outputs": [],
   "source": [
    "results_df = pd.DataFrame(grid.cv_results_)\n",
    "\n",
    "results_df = results_df.sort_values(by=[\"rank_test_score\"])\n",
    "results_df = results_df.set_index(\n",
    "    results_df[\"params\"].apply(lambda x: \"_\".join(str(val) for val in x.values()))\n",
    ").rename_axis(\"kernel\")\n",
    "\n",
    "save_output = results_df[[\"params\", \"rank_test_score\", \"mean_test_score\", \"std_test_score\"]]"
   ]
  },
  {
   "cell_type": "code",
   "execution_count": 56,
   "metadata": {},
   "outputs": [],
   "source": [
    "# save_output.to_csv(\"hyper_parameters_results.csv\", index=False)"
   ]
  },
  {
   "cell_type": "code",
   "execution_count": null,
   "metadata": {},
   "outputs": [],
   "source": []
  },
  {
   "cell_type": "markdown",
   "metadata": {},
   "source": [
    "## GPT fine-tuning the model"
   ]
  },
  {
   "cell_type": "code",
   "execution_count": 149,
   "metadata": {},
   "outputs": [],
   "source": [
    "import json\n",
    "import jsonlines\n",
    "\n",
    "from openai import OpenAI"
   ]
  },
  {
   "cell_type": "code",
   "execution_count": 150,
   "metadata": {},
   "outputs": [
    {
     "data": {
      "text/html": [
       "<div>\n",
       "<style scoped>\n",
       "    .dataframe tbody tr th:only-of-type {\n",
       "        vertical-align: middle;\n",
       "    }\n",
       "\n",
       "    .dataframe tbody tr th {\n",
       "        vertical-align: top;\n",
       "    }\n",
       "\n",
       "    .dataframe thead th {\n",
       "        text-align: right;\n",
       "    }\n",
       "</style>\n",
       "<table border=\"1\" class=\"dataframe\">\n",
       "  <thead>\n",
       "    <tr style=\"text-align: right;\">\n",
       "      <th></th>\n",
       "      <th>func</th>\n",
       "      <th>target</th>\n",
       "      <th>cwe</th>\n",
       "      <th>project</th>\n",
       "      <th>commit_id</th>\n",
       "      <th>hash</th>\n",
       "      <th>size</th>\n",
       "      <th>message</th>\n",
       "    </tr>\n",
       "  </thead>\n",
       "  <tbody>\n",
       "    <tr>\n",
       "      <th>42</th>\n",
       "      <td>\\t\\tvoid CWebServer::Cmd_GetHardwareTypes(WebE...</td>\n",
       "      <td>0</td>\n",
       "      <td>CWE-89</td>\n",
       "      <td>domoticz</td>\n",
       "      <td>ee70db46f81afa582c96b887b73bcd2a86feda00</td>\n",
       "      <td>267720109913093530859379052733461853792</td>\n",
       "      <td>NaN</td>\n",
       "      <td>NaN</td>\n",
       "    </tr>\n",
       "    <tr>\n",
       "      <th>485</th>\n",
       "      <td>@mod.route('/test', methods=['GET', 'POST'])\\n...</td>\n",
       "      <td>1</td>\n",
       "      <td>cwe-089</td>\n",
       "      <td>NaN</td>\n",
       "      <td>NaN</td>\n",
       "      <td>NaN</td>\n",
       "      <td>NaN</td>\n",
       "      <td>NaN</td>\n",
       "    </tr>\n",
       "    <tr>\n",
       "      <th>238</th>\n",
       "      <td>bool subselect_union_engine::no_tables()\\n{\\n ...</td>\n",
       "      <td>0</td>\n",
       "      <td>['CWE-89']</td>\n",
       "      <td>server</td>\n",
       "      <td>3c209bfc040ddfc41ece8357d772547432353fd2</td>\n",
       "      <td>332371065322920254027750936800733766087</td>\n",
       "      <td>9.0</td>\n",
       "      <td>MDEV-25994: Crash with union of my_decimal typ...</td>\n",
       "    </tr>\n",
       "    <tr>\n",
       "      <th>483</th>\n",
       "      <td>def process_ranks(self, scene, urls, recen...</td>\n",
       "      <td>1</td>\n",
       "      <td>cwe-089</td>\n",
       "      <td>NaN</td>\n",
       "      <td>NaN</td>\n",
       "      <td>NaN</td>\n",
       "      <td>NaN</td>\n",
       "      <td>NaN</td>\n",
       "    </tr>\n",
       "    <tr>\n",
       "      <th>369</th>\n",
       "      <td>def fetch_data(self, session, id):\\n      ...</td>\n",
       "      <td>1</td>\n",
       "      <td>cwe-089</td>\n",
       "      <td>NaN</td>\n",
       "      <td>NaN</td>\n",
       "      <td>NaN</td>\n",
       "      <td>NaN</td>\n",
       "      <td>NaN</td>\n",
       "    </tr>\n",
       "  </tbody>\n",
       "</table>\n",
       "</div>"
      ],
      "text/plain": [
       "                                                  func  target         cwe  \\\n",
       "42   \\t\\tvoid CWebServer::Cmd_GetHardwareTypes(WebE...       0      CWE-89   \n",
       "485  @mod.route('/test', methods=['GET', 'POST'])\\n...       1     cwe-089   \n",
       "238  bool subselect_union_engine::no_tables()\\n{\\n ...       0  ['CWE-89']   \n",
       "483      def process_ranks(self, scene, urls, recen...       1     cwe-089   \n",
       "369      def fetch_data(self, session, id):\\n      ...       1     cwe-089   \n",
       "\n",
       "      project                                 commit_id  \\\n",
       "42   domoticz  ee70db46f81afa582c96b887b73bcd2a86feda00   \n",
       "485       NaN                                       NaN   \n",
       "238    server  3c209bfc040ddfc41ece8357d772547432353fd2   \n",
       "483       NaN                                       NaN   \n",
       "369       NaN                                       NaN   \n",
       "\n",
       "                                        hash  size  \\\n",
       "42   267720109913093530859379052733461853792   NaN   \n",
       "485                                      NaN   NaN   \n",
       "238  332371065322920254027750936800733766087   9.0   \n",
       "483                                      NaN   NaN   \n",
       "369                                      NaN   NaN   \n",
       "\n",
       "                                               message  \n",
       "42                                                 NaN  \n",
       "485                                                NaN  \n",
       "238  MDEV-25994: Crash with union of my_decimal typ...  \n",
       "483                                                NaN  \n",
       "369                                                NaN  "
      ]
     },
     "execution_count": 150,
     "metadata": {},
     "output_type": "execute_result"
    }
   ],
   "source": [
    "df = pd.read_csv(\"final_datasets/under_diverse_primevul_sven.csv\").sample(frac=1)\n",
    "df.head()"
   ]
  },
  {
   "cell_type": "code",
   "execution_count": 151,
   "metadata": {},
   "outputs": [
    {
     "name": "stderr",
     "output_type": "stream",
     "text": [
      "/Users/nmaligazhdarova/Desktop/project/.venv copy/lib/python3.12/site-packages/numpy/core/fromnumeric.py:59: FutureWarning: 'DataFrame.swapaxes' is deprecated and will be removed in a future version. Please use 'DataFrame.transpose' instead.\n",
      "  return bound(*args, **kwds)\n"
     ]
    }
   ],
   "source": [
    "train, test = np.split(df.sample(frac=1), [int(0.7*len(df))])"
   ]
  },
  {
   "cell_type": "code",
   "execution_count": 152,
   "metadata": {},
   "outputs": [
    {
     "name": "stdout",
     "output_type": "stream",
     "text": [
      "(359, 8)\n",
      "(155, 8)\n"
     ]
    }
   ],
   "source": [
    "print(train.shape)\n",
    "print(test.shape)"
   ]
  },
  {
   "cell_type": "code",
   "execution_count": 153,
   "metadata": {},
   "outputs": [],
   "source": [
    "# Save train and test datasets in CSV file\n",
    "\n",
    "# train.to_csv('final_datasets/tmp/train.csv', index=False)\n",
    "# test.to_csv('final_datasets/tmp/test.csv', index=False)"
   ]
  },
  {
   "cell_type": "markdown",
   "metadata": {},
   "source": [
    "#### Converting dataset to the acceptable GPT format"
   ]
  },
  {
   "cell_type": "code",
   "execution_count": 154,
   "metadata": {},
   "outputs": [],
   "source": [
    "def convert_target_dataset(input, output):\n",
    "    input = pd.read_csv(input)\n",
    "    \n",
    "    with open(output, 'w') as f:\n",
    "        for index, row in input.iterrows():\n",
    "            jsonl_data = {\n",
    "                \"messages\": [\n",
    "                    {\"role\": \"system\", \"content\": \"You will be provided with a piece of C++ code, and your task is to define whether this code is vulnerable to SQL Injection. Provide answer: True or False\"},\n",
    "                    {\"role\": \"user\", \"content\": row['func']},\n",
    "                    {\"role\": \"assistant\", \"content\": str(bool(row['target']))}\n",
    "                ]\n",
    "            }\n",
    "\n",
    "            f.write(json.dumps(jsonl_data) + '\\n') # "
   ]
  },
  {
   "cell_type": "code",
   "execution_count": 155,
   "metadata": {},
   "outputs": [],
   "source": [
    "# convert_target_dataset(\"final_datasets/tmp/train.csv\", \"final_datasets/train_dataset_for_GPT.jsonl\")"
   ]
  },
  {
   "cell_type": "code",
   "execution_count": 156,
   "metadata": {},
   "outputs": [],
   "source": [
    "def convert_test_dataset(input, output):\n",
    "    with open(output, 'w') as output_file:\n",
    "        input = pd.read_csv(input)\n",
    "        \n",
    "        for index, row in input.iterrows():\n",
    "            prompt_message = {\n",
    "                \"role\": \"system\",\n",
    "                \"content\": \"You will be provided with a piece of C++ code, and your task is to define whether this code is vulnerable to SQL Injection. Provide answer: True or False\"\n",
    "            }\n",
    "            user_message = {\n",
    "                \"role\": \"user\",\n",
    "                \"content\": row['func']\n",
    "            }\n",
    "            # print(prompt_message)\n",
    "            # print(user_message)\n",
    "            \n",
    "            input_output_pair = {\n",
    "                \"messages\": [prompt_message, user_message, {\"role\": \"assistant\", \"content\": \"assistant_response\"}]\n",
    "            }\n",
    "\n",
    "            output_file.write(json.dumps(input_output_pair) + '\\n')"
   ]
  },
  {
   "cell_type": "code",
   "execution_count": 157,
   "metadata": {},
   "outputs": [],
   "source": [
    "# convert_test_dataset(\"final_datasets/tmp/test.csv\", \"final_datasets/test_dataset_for_GPT.jsonl\")"
   ]
  },
  {
   "cell_type": "markdown",
   "metadata": {},
   "source": [
    "#### Fine-tuning the model"
   ]
  },
  {
   "cell_type": "code",
   "execution_count": 158,
   "metadata": {},
   "outputs": [],
   "source": [
    "client = OpenAI(api_key=\"--------------\") # your API key"
   ]
  },
  {
   "cell_type": "code",
   "execution_count": 159,
   "metadata": {},
   "outputs": [],
   "source": [
    "def step_1(file_path):\n",
    "    with open(file_path, 'rb') as file:\n",
    "        response = client.files.create(file=file, purpose='fine-tune')\n",
    "        print(response)"
   ]
  },
  {
   "cell_type": "code",
   "execution_count": 160,
   "metadata": {},
   "outputs": [],
   "source": [
    "def step_2(file_name):\n",
    "    response = client.fine_tuning.jobs.create(\n",
    "    training_file=file_name, \n",
    "    model=\"gpt-3.5-turbo-1106\"\n",
    "    )\n",
    "    print(response)"
   ]
  },
  {
   "cell_type": "code",
   "execution_count": 161,
   "metadata": {},
   "outputs": [],
   "source": [
    "def step_3(output_file_to_save, test_dataset, model_name):\n",
    "\n",
    "    with open(output_file_to_save, 'w') as output_file:\n",
    "        # Iterate over each code snippet in the test dataset\n",
    "        test_dataset = pd.read_csv(test_dataset)\n",
    "        \n",
    "        for index, row in test_dataset.iterrows():\n",
    "            # Create a prompt message\n",
    "            prompt_message = {\n",
    "                \"role\": \"system\",\n",
    "                \"content\": \"You will be provided with a piece of C++ code, and your task is to define whether this code is vulnerable to SQL Injection. Provide answer: True or False\"\n",
    "            }\n",
    "            \n",
    "            user_message = {\n",
    "                \"role\": \"user\",\n",
    "                \"content\": row['func']\n",
    "            }\n",
    "            # print(prompt_message)\n",
    "            # print(user_message)\n",
    "\n",
    "            completion = client.chat.completions.create(\n",
    "                model=model_name,\n",
    "                messages=[prompt_message, user_message]\n",
    "            )\n",
    "            \n",
    "            # Extract the completion output\n",
    "            assistant_response = completion.choices[0].message.content\n",
    "            \n",
    "\n",
    "            input_output_pair = {\n",
    "                \"messages\": [prompt_message, user_message, {\"role\": \"assistant\", \"content\": assistant_response}]\n",
    "            }\n",
    "\n",
    "            output_file.write(json.dumps(input_output_pair) + '\\n')"
   ]
  },
  {
   "cell_type": "code",
   "execution_count": 162,
   "metadata": {},
   "outputs": [],
   "source": [
    "# step_1(\"dataset/train.jsonl\")"
   ]
  },
  {
   "cell_type": "code",
   "execution_count": 163,
   "metadata": {},
   "outputs": [],
   "source": [
    "# paste the final name from the Step 1\n",
    "\n",
    "# step_2('file-8f4t77G2x0UdehFqExDsr2k2')"
   ]
  },
  {
   "cell_type": "code",
   "execution_count": 164,
   "metadata": {},
   "outputs": [],
   "source": [
    "# paste the name of the model after Step 2\n",
    "\n",
    "# step_3('final_datasets/final_results.jsonl', 'final_datasets/tmp/test.csv', 'ft:gpt-3.5-turbo-1106:-------------')"
   ]
  },
  {
   "cell_type": "markdown",
   "metadata": {},
   "source": [
    "#### Analyze the results"
   ]
  },
  {
   "cell_type": "code",
   "execution_count": 165,
   "metadata": {},
   "outputs": [],
   "source": [
    "def count_true_false(jsonl_file):\n",
    "    false_count = 0\n",
    "    true_count = 0\n",
    "\n",
    "    with jsonlines.open(jsonl_file) as reader:\n",
    "\n",
    "        for obj in reader:\n",
    "\n",
    "            messages = obj.get(\"messages\", [])\n",
    "            for message in messages:\n",
    "                if message.get(\"content\") == 'False':\n",
    "                    false_count += 1\n",
    "\n",
    "                if message.get(\"content\") == 'True':\n",
    "                    true_count += 1\n",
    "\n",
    "\n",
    "    print(\" 'False' field:\", false_count)\n",
    "    print(\" 'True' field:\", true_count)"
   ]
  },
  {
   "cell_type": "code",
   "execution_count": 166,
   "metadata": {},
   "outputs": [
    {
     "name": "stdout",
     "output_type": "stream",
     "text": [
      " 'False' field: 85\n",
      " 'True' field: 70\n"
     ]
    }
   ],
   "source": [
    "count_true_false('final_datasets/final_results.jsonl')"
   ]
  },
  {
   "cell_type": "code",
   "execution_count": 167,
   "metadata": {},
   "outputs": [],
   "source": [
    "# actual True and False values\n",
    "import csv\n",
    "\n",
    "count_actual_values = []\n",
    "\n",
    "test_df = 'final_datasets/tmp/test.csv'\n",
    "\n",
    "with open(test_df, \"r\") as csvfile:\n",
    "  reader = csv.reader(csvfile)\n",
    "  next(reader, None)\n",
    "\n",
    "  for row in reader:\n",
    "    count_actual_values.append(int(row[1]))"
   ]
  },
  {
   "cell_type": "code",
   "execution_count": 168,
   "metadata": {},
   "outputs": [
    {
     "data": {
      "text/plain": [
       "155"
      ]
     },
     "execution_count": 168,
     "metadata": {},
     "output_type": "execute_result"
    }
   ],
   "source": [
    "len(count_actual_values)"
   ]
  },
  {
   "cell_type": "code",
   "execution_count": 169,
   "metadata": {},
   "outputs": [],
   "source": [
    "count_values = []\n",
    "\n",
    "json_file = 'final_datasets/final_results.jsonl'\n",
    "\n",
    "with jsonlines.open(json_file) as reader:\n",
    "    for obj in reader:\n",
    "        messages = obj.get(\"messages\", [])\n",
    "        for message in messages:\n",
    "            if message.get(\"role\") == \"assistant\":\n",
    "                # print(message.get(\"content\"))\n",
    "\n",
    "                if message.get(\"content\") == 'False':\n",
    "                    count_values.append(0)\n",
    "                if message.get(\"content\") == 'True':\n",
    "                    count_values.append(1)"
   ]
  },
  {
   "cell_type": "code",
   "execution_count": 170,
   "metadata": {},
   "outputs": [
    {
     "name": "stdout",
     "output_type": "stream",
     "text": [
      "[1, 0, 1, 1, 0, 0, 1, 0, 0, 0, 1, 0, 0, 0, 0, 1, 1, 1, 1, 0, 1, 1, 0, 1, 1, 0, 0, 1, 1, 1, 0, 0, 1, 0, 0, 0, 1, 0, 0, 0, 0, 1, 1, 0, 1, 0, 1, 1, 0, 1, 1, 0, 0, 1, 1, 1, 0, 1, 0, 1, 1, 0, 0, 0, 1, 0, 1, 0, 0, 0, 0, 0, 0, 0, 0, 1, 0, 1, 1, 1, 0, 0, 0, 0, 0, 0, 1, 1, 0, 1, 1, 0, 1, 0, 1, 1, 0, 1, 0, 1, 1, 0, 0, 0, 0, 1, 0, 0, 1, 0, 0, 0, 1, 0, 0, 0, 1, 1, 1, 1, 1, 0, 1, 0, 0, 0, 1, 0, 1, 0, 1, 0, 0, 1, 1, 0, 1, 0, 0, 1, 1, 1, 0, 1, 1, 0, 0, 1, 0, 1, 1, 0, 1, 1, 1]\n"
     ]
    }
   ],
   "source": [
    "print(count_actual_values)"
   ]
  },
  {
   "cell_type": "code",
   "execution_count": 171,
   "metadata": {},
   "outputs": [
    {
     "name": "stdout",
     "output_type": "stream",
     "text": [
      "[1, 0, 1, 1, 0, 0, 1, 0, 0, 0, 1, 0, 0, 0, 0, 1, 1, 1, 1, 0, 1, 1, 0, 1, 1, 0, 0, 1, 1, 1, 0, 0, 1, 0, 0, 0, 0, 0, 0, 0, 0, 1, 1, 0, 0, 0, 1, 1, 0, 1, 1, 0, 0, 1, 1, 1, 0, 1, 0, 1, 1, 0, 0, 0, 1, 0, 1, 0, 0, 0, 0, 0, 0, 0, 0, 1, 0, 1, 1, 1, 0, 0, 0, 0, 0, 0, 1, 1, 0, 1, 1, 0, 1, 0, 1, 1, 0, 1, 0, 1, 1, 0, 0, 0, 0, 1, 0, 0, 1, 0, 0, 0, 1, 0, 0, 0, 1, 1, 1, 1, 1, 0, 1, 0, 0, 0, 1, 0, 1, 0, 1, 0, 0, 1, 1, 0, 1, 0, 0, 1, 1, 1, 0, 1, 1, 0, 0, 1, 0, 1, 0, 0, 1, 1, 1]\n"
     ]
    }
   ],
   "source": [
    "print(count_values)"
   ]
  },
  {
   "cell_type": "code",
   "execution_count": 176,
   "metadata": {},
   "outputs": [],
   "source": [
    "y_true = count_actual_values\n",
    "y_pred = count_values  \n",
    "\n",
    "TN_LLM, FP_LLM, FN_LLM, TP_LLM = confusion_matrix(y_true, y_pred, labels=[0, 1]).ravel()"
   ]
  },
  {
   "cell_type": "code",
   "execution_count": 187,
   "metadata": {},
   "outputs": [],
   "source": [
    "def calculate_results(TN, FP, FN, TP):\n",
    "    ACC = (TP+TN)/(TP+FP+FN+TN)\n",
    "    Precision = TP/(TP+FP)\n",
    "    Recall = TP/(TP+FN)\n",
    "    F1 = 2 * (Precision * Recall) / (Precision + Recall)\n",
    "\n",
    "    print(\"True negative: \", TN, \"\\nFalse positive: \", FP, \"\\nFalse negative: \", FN, \"\\nTrue positive\", TP)\n",
    "    print(\"\")\n",
    "    print(\"Accuracy: \", round(ACC, 4), \"\\nPrecision: \", round(Precision, 4), \"\\nRecall: \", round(Recall, 4), \"\\nF1: \", round(F1, 4))"
   ]
  },
  {
   "cell_type": "markdown",
   "metadata": {},
   "source": [
    "## Final results"
   ]
  },
  {
   "cell_type": "code",
   "execution_count": 188,
   "metadata": {},
   "outputs": [
    {
     "name": "stdout",
     "output_type": "stream",
     "text": [
      "\n",
      "------------------ SVC model ------------------\n",
      "\n",
      "True negative:  80 \n",
      "False positive:  2 \n",
      "False negative:  4 \n",
      "True positive 69\n",
      "\n",
      "Accuracy:  0.9613 \n",
      "Precision:  0.9718 \n",
      "Recall:  0.9452 \n",
      "F1:  0.9583\n",
      "None\n",
      "\n",
      "------------------ LLM fine-tuned model ------------------\n",
      "\n",
      "True negative:  82 \n",
      "False positive:  0 \n",
      "False negative:  3 \n",
      "True positive 70\n",
      "\n",
      "Accuracy:  0.9806 \n",
      "Precision:  1.0 \n",
      "Recall:  0.9589 \n",
      "F1:  0.979\n",
      "None\n"
     ]
    }
   ],
   "source": [
    "print(\"\\n------------------ SVC model ------------------\\n\")\n",
    "print(calculate_results(TN_SVC, FP_SVC, FN_SVC, TP_SVC))\n",
    "\n",
    "print(\"\\n------------------ LLM fine-tuned model ------------------\\n\")\n",
    "print(calculate_results(TN_LLM, FP_LLM, FN_LLM, TP_LLM))"
   ]
  },
  {
   "cell_type": "code",
   "execution_count": null,
   "metadata": {},
   "outputs": [],
   "source": []
  }
 ],
 "metadata": {
  "kernelspec": {
   "display_name": ".venv",
   "language": "python",
   "name": "python3"
  },
  "language_info": {
   "codemirror_mode": {
    "name": "ipython",
    "version": 3
   },
   "file_extension": ".py",
   "mimetype": "text/x-python",
   "name": "python",
   "nbconvert_exporter": "python",
   "pygments_lexer": "ipython3",
   "version": "3.12.2"
  }
 },
 "nbformat": 4,
 "nbformat_minor": 2
}
